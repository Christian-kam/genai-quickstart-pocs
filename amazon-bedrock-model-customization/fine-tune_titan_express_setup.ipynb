{
 "cells": [
  {
   "cell_type": "code",
   "execution_count": 31,
   "id": "df2b70da",
   "metadata": {},
   "outputs": [
    {
     "name": "stdout",
     "output_type": "stream",
     "text": [
      "Requirement already satisfied: pip in /Users/rajacgho/AIML-Code/bedrock-model-customization/bedrock-model-customization/venv/lib/python3.9/site-packages (24.0)\n",
      "Collecting boto3>=1.28.57\n",
      "  Using cached boto3-1.34.104-py3-none-any.whl.metadata (6.6 kB)\n",
      "Collecting awscli>=1.29.57\n",
      "  Using cached awscli-1.32.104-py3-none-any.whl.metadata (11 kB)\n",
      "Collecting botocore>=1.31.57\n",
      "  Using cached botocore-1.34.104-py3-none-any.whl.metadata (5.7 kB)\n",
      "Collecting jmespath<2.0.0,>=0.7.1 (from boto3>=1.28.57)\n",
      "  Using cached jmespath-1.0.1-py3-none-any.whl.metadata (7.6 kB)\n",
      "Collecting s3transfer<0.11.0,>=0.10.0 (from boto3>=1.28.57)\n",
      "  Using cached s3transfer-0.10.1-py3-none-any.whl.metadata (1.7 kB)\n",
      "Collecting docutils<0.17,>=0.10 (from awscli>=1.29.57)\n",
      "  Using cached docutils-0.16-py2.py3-none-any.whl.metadata (2.7 kB)\n",
      "Collecting PyYAML<6.1,>=3.10 (from awscli>=1.29.57)\n",
      "  Using cached PyYAML-6.0.1-cp39-cp39-macosx_10_9_x86_64.whl.metadata (2.1 kB)\n",
      "Collecting colorama<0.4.7,>=0.2.5 (from awscli>=1.29.57)\n",
      "  Using cached colorama-0.4.6-py2.py3-none-any.whl.metadata (17 kB)\n",
      "Collecting rsa<4.8,>=3.1.2 (from awscli>=1.29.57)\n",
      "  Using cached rsa-4.7.2-py3-none-any.whl.metadata (3.6 kB)\n",
      "Collecting python-dateutil<3.0.0,>=2.1 (from botocore>=1.31.57)\n",
      "  Using cached python_dateutil-2.9.0.post0-py2.py3-none-any.whl.metadata (8.4 kB)\n",
      "Collecting urllib3<1.27,>=1.25.4 (from botocore>=1.31.57)\n",
      "  Using cached urllib3-1.26.18-py2.py3-none-any.whl.metadata (48 kB)\n",
      "Collecting six>=1.5 (from python-dateutil<3.0.0,>=2.1->botocore>=1.31.57)\n",
      "  Using cached six-1.16.0-py2.py3-none-any.whl.metadata (1.8 kB)\n",
      "Collecting pyasn1>=0.1.3 (from rsa<4.8,>=3.1.2->awscli>=1.29.57)\n",
      "  Using cached pyasn1-0.6.0-py2.py3-none-any.whl.metadata (8.3 kB)\n",
      "Using cached boto3-1.34.104-py3-none-any.whl (139 kB)\n",
      "Using cached awscli-1.32.104-py3-none-any.whl (4.5 MB)\n",
      "Using cached botocore-1.34.104-py3-none-any.whl (12.2 MB)\n",
      "Using cached colorama-0.4.6-py2.py3-none-any.whl (25 kB)\n",
      "Using cached docutils-0.16-py2.py3-none-any.whl (548 kB)\n",
      "Using cached jmespath-1.0.1-py3-none-any.whl (20 kB)\n",
      "Using cached python_dateutil-2.9.0.post0-py2.py3-none-any.whl (229 kB)\n",
      "Using cached PyYAML-6.0.1-cp39-cp39-macosx_10_9_x86_64.whl (197 kB)\n",
      "Using cached rsa-4.7.2-py3-none-any.whl (34 kB)\n",
      "Using cached s3transfer-0.10.1-py3-none-any.whl (82 kB)\n",
      "Using cached urllib3-1.26.18-py2.py3-none-any.whl (143 kB)\n",
      "Using cached pyasn1-0.6.0-py2.py3-none-any.whl (85 kB)\n",
      "Using cached six-1.16.0-py2.py3-none-any.whl (11 kB)\n",
      "Installing collected packages: urllib3, six, PyYAML, pyasn1, jmespath, docutils, colorama, rsa, python-dateutil, botocore, s3transfer, boto3, awscli\n",
      "  Attempting uninstall: urllib3\n",
      "    Found existing installation: urllib3 1.26.18\n",
      "    Uninstalling urllib3-1.26.18:\n",
      "      Successfully uninstalled urllib3-1.26.18\n",
      "  Attempting uninstall: six\n",
      "    Found existing installation: six 1.16.0\n",
      "    Uninstalling six-1.16.0:\n",
      "      Successfully uninstalled six-1.16.0\n",
      "  Attempting uninstall: PyYAML\n",
      "    Found existing installation: PyYAML 6.0.1\n",
      "    Uninstalling PyYAML-6.0.1:\n",
      "      Successfully uninstalled PyYAML-6.0.1\n",
      "  Attempting uninstall: pyasn1\n",
      "    Found existing installation: pyasn1 0.6.0\n",
      "    Uninstalling pyasn1-0.6.0:\n",
      "      Successfully uninstalled pyasn1-0.6.0\n",
      "  Attempting uninstall: jmespath\n",
      "    Found existing installation: jmespath 1.0.1\n",
      "    Uninstalling jmespath-1.0.1:\n",
      "      Successfully uninstalled jmespath-1.0.1\n",
      "  Attempting uninstall: docutils\n",
      "    Found existing installation: docutils 0.16\n",
      "    Uninstalling docutils-0.16:\n",
      "      Successfully uninstalled docutils-0.16\n",
      "  Attempting uninstall: colorama\n",
      "    Found existing installation: colorama 0.4.6\n",
      "    Uninstalling colorama-0.4.6:\n",
      "      Successfully uninstalled colorama-0.4.6\n",
      "  Attempting uninstall: rsa\n",
      "    Found existing installation: rsa 4.7.2\n",
      "    Uninstalling rsa-4.7.2:\n",
      "      Successfully uninstalled rsa-4.7.2\n",
      "  Attempting uninstall: python-dateutil\n",
      "    Found existing installation: python-dateutil 2.9.0.post0\n",
      "    Uninstalling python-dateutil-2.9.0.post0:\n",
      "      Successfully uninstalled python-dateutil-2.9.0.post0\n",
      "  Attempting uninstall: botocore\n",
      "    Found existing installation: botocore 1.34.104\n",
      "    Uninstalling botocore-1.34.104:\n",
      "      Successfully uninstalled botocore-1.34.104\n",
      "  Attempting uninstall: s3transfer\n",
      "    Found existing installation: s3transfer 0.10.1\n",
      "    Uninstalling s3transfer-0.10.1:\n",
      "      Successfully uninstalled s3transfer-0.10.1\n",
      "  Attempting uninstall: boto3\n",
      "    Found existing installation: boto3 1.34.104\n",
      "    Uninstalling boto3-1.34.104:\n",
      "      Successfully uninstalled boto3-1.34.104\n",
      "  Attempting uninstall: awscli\n",
      "    Found existing installation: awscli 1.32.104\n",
      "    Uninstalling awscli-1.32.104:\n",
      "      Successfully uninstalled awscli-1.32.104\n",
      "Successfully installed PyYAML-6.0.1 awscli-1.32.104 boto3-1.34.104 botocore-1.34.104 colorama-0.4.6 docutils-0.16 jmespath-1.0.1 pyasn1-0.6.0 python-dateutil-2.9.0.post0 rsa-4.7.2 s3transfer-0.10.1 six-1.16.0 urllib3-1.26.18\n",
      "Note: you may need to restart the kernel to use updated packages.\n",
      "zsh:1: 7, not found\n",
      "Requirement already satisfied: jsonlines in /Users/rajacgho/AIML-Code/bedrock-model-customization/bedrock-model-customization/venv/lib/python3.9/site-packages (4.0.0)\n",
      "Requirement already satisfied: attrs>=19.2.0 in /Users/rajacgho/AIML-Code/bedrock-model-customization/bedrock-model-customization/venv/lib/python3.9/site-packages (from jsonlines) (23.2.0)\n",
      "Requirement already satisfied: datasets==2.15.0 in /Users/rajacgho/AIML-Code/bedrock-model-customization/bedrock-model-customization/venv/lib/python3.9/site-packages (2.15.0)\n",
      "Requirement already satisfied: numpy>=1.17 in /Users/rajacgho/AIML-Code/bedrock-model-customization/bedrock-model-customization/venv/lib/python3.9/site-packages (from datasets==2.15.0) (1.26.4)\n",
      "Requirement already satisfied: pyarrow>=8.0.0 in /Users/rajacgho/AIML-Code/bedrock-model-customization/bedrock-model-customization/venv/lib/python3.9/site-packages (from datasets==2.15.0) (15.0.2)\n",
      "Requirement already satisfied: pyarrow-hotfix in /Users/rajacgho/AIML-Code/bedrock-model-customization/bedrock-model-customization/venv/lib/python3.9/site-packages (from datasets==2.15.0) (0.6)\n",
      "Requirement already satisfied: dill<0.3.8,>=0.3.0 in /Users/rajacgho/AIML-Code/bedrock-model-customization/bedrock-model-customization/venv/lib/python3.9/site-packages (from datasets==2.15.0) (0.3.7)\n",
      "Requirement already satisfied: pandas in /Users/rajacgho/AIML-Code/bedrock-model-customization/bedrock-model-customization/venv/lib/python3.9/site-packages (from datasets==2.15.0) (2.1.3)\n",
      "Requirement already satisfied: requests>=2.19.0 in /Users/rajacgho/AIML-Code/bedrock-model-customization/bedrock-model-customization/venv/lib/python3.9/site-packages (from datasets==2.15.0) (2.31.0)\n",
      "Requirement already satisfied: tqdm>=4.62.1 in /Users/rajacgho/AIML-Code/bedrock-model-customization/bedrock-model-customization/venv/lib/python3.9/site-packages (from datasets==2.15.0) (4.66.2)\n",
      "Requirement already satisfied: xxhash in /Users/rajacgho/AIML-Code/bedrock-model-customization/bedrock-model-customization/venv/lib/python3.9/site-packages (from datasets==2.15.0) (3.4.1)\n",
      "Requirement already satisfied: multiprocess in /Users/rajacgho/AIML-Code/bedrock-model-customization/bedrock-model-customization/venv/lib/python3.9/site-packages (from datasets==2.15.0) (0.70.15)\n",
      "Requirement already satisfied: fsspec<=2023.10.0,>=2023.1.0 in /Users/rajacgho/AIML-Code/bedrock-model-customization/bedrock-model-customization/venv/lib/python3.9/site-packages (from fsspec[http]<=2023.10.0,>=2023.1.0->datasets==2.15.0) (2023.10.0)\n",
      "Requirement already satisfied: aiohttp in /Users/rajacgho/AIML-Code/bedrock-model-customization/bedrock-model-customization/venv/lib/python3.9/site-packages (from datasets==2.15.0) (3.9.5)\n",
      "Requirement already satisfied: huggingface-hub>=0.18.0 in /Users/rajacgho/AIML-Code/bedrock-model-customization/bedrock-model-customization/venv/lib/python3.9/site-packages (from datasets==2.15.0) (0.22.2)\n",
      "Requirement already satisfied: packaging in /Users/rajacgho/AIML-Code/bedrock-model-customization/bedrock-model-customization/venv/lib/python3.9/site-packages (from datasets==2.15.0) (23.2)\n",
      "Requirement already satisfied: pyyaml>=5.1 in /Users/rajacgho/AIML-Code/bedrock-model-customization/bedrock-model-customization/venv/lib/python3.9/site-packages (from datasets==2.15.0) (6.0.1)\n",
      "Requirement already satisfied: aiosignal>=1.1.2 in /Users/rajacgho/AIML-Code/bedrock-model-customization/bedrock-model-customization/venv/lib/python3.9/site-packages (from aiohttp->datasets==2.15.0) (1.3.1)\n",
      "Requirement already satisfied: attrs>=17.3.0 in /Users/rajacgho/AIML-Code/bedrock-model-customization/bedrock-model-customization/venv/lib/python3.9/site-packages (from aiohttp->datasets==2.15.0) (23.2.0)\n",
      "Requirement already satisfied: frozenlist>=1.1.1 in /Users/rajacgho/AIML-Code/bedrock-model-customization/bedrock-model-customization/venv/lib/python3.9/site-packages (from aiohttp->datasets==2.15.0) (1.4.1)\n",
      "Requirement already satisfied: multidict<7.0,>=4.5 in /Users/rajacgho/AIML-Code/bedrock-model-customization/bedrock-model-customization/venv/lib/python3.9/site-packages (from aiohttp->datasets==2.15.0) (6.0.5)\n",
      "Requirement already satisfied: yarl<2.0,>=1.0 in /Users/rajacgho/AIML-Code/bedrock-model-customization/bedrock-model-customization/venv/lib/python3.9/site-packages (from aiohttp->datasets==2.15.0) (1.9.4)\n",
      "Requirement already satisfied: async-timeout<5.0,>=4.0 in /Users/rajacgho/AIML-Code/bedrock-model-customization/bedrock-model-customization/venv/lib/python3.9/site-packages (from aiohttp->datasets==2.15.0) (4.0.3)\n",
      "Requirement already satisfied: filelock in /Users/rajacgho/AIML-Code/bedrock-model-customization/bedrock-model-customization/venv/lib/python3.9/site-packages (from huggingface-hub>=0.18.0->datasets==2.15.0) (3.13.4)\n",
      "Requirement already satisfied: typing-extensions>=3.7.4.3 in /Users/rajacgho/AIML-Code/bedrock-model-customization/bedrock-model-customization/venv/lib/python3.9/site-packages (from huggingface-hub>=0.18.0->datasets==2.15.0) (4.11.0)\n",
      "Requirement already satisfied: charset-normalizer<4,>=2 in /Users/rajacgho/AIML-Code/bedrock-model-customization/bedrock-model-customization/venv/lib/python3.9/site-packages (from requests>=2.19.0->datasets==2.15.0) (3.3.2)\n",
      "Requirement already satisfied: idna<4,>=2.5 in /Users/rajacgho/AIML-Code/bedrock-model-customization/bedrock-model-customization/venv/lib/python3.9/site-packages (from requests>=2.19.0->datasets==2.15.0) (3.7)\n",
      "Requirement already satisfied: urllib3<3,>=1.21.1 in /Users/rajacgho/AIML-Code/bedrock-model-customization/bedrock-model-customization/venv/lib/python3.9/site-packages (from requests>=2.19.0->datasets==2.15.0) (1.26.18)\n",
      "Requirement already satisfied: certifi>=2017.4.17 in /Users/rajacgho/AIML-Code/bedrock-model-customization/bedrock-model-customization/venv/lib/python3.9/site-packages (from requests>=2.19.0->datasets==2.15.0) (2024.2.2)\n",
      "Requirement already satisfied: python-dateutil>=2.8.2 in /Users/rajacgho/AIML-Code/bedrock-model-customization/bedrock-model-customization/venv/lib/python3.9/site-packages (from pandas->datasets==2.15.0) (2.9.0.post0)\n",
      "Requirement already satisfied: pytz>=2020.1 in /Users/rajacgho/AIML-Code/bedrock-model-customization/bedrock-model-customization/venv/lib/python3.9/site-packages (from pandas->datasets==2.15.0) (2024.1)\n",
      "Requirement already satisfied: tzdata>=2022.1 in /Users/rajacgho/AIML-Code/bedrock-model-customization/bedrock-model-customization/venv/lib/python3.9/site-packages (from pandas->datasets==2.15.0) (2024.1)\n",
      "Requirement already satisfied: six>=1.5 in /Users/rajacgho/AIML-Code/bedrock-model-customization/bedrock-model-customization/venv/lib/python3.9/site-packages (from python-dateutil>=2.8.2->pandas->datasets==2.15.0) (1.16.0)\n",
      "Requirement already satisfied: pandas==2.1.3 in /Users/rajacgho/AIML-Code/bedrock-model-customization/bedrock-model-customization/venv/lib/python3.9/site-packages (2.1.3)\n",
      "Requirement already satisfied: numpy<2,>=1.22.4 in /Users/rajacgho/AIML-Code/bedrock-model-customization/bedrock-model-customization/venv/lib/python3.9/site-packages (from pandas==2.1.3) (1.26.4)\n",
      "Requirement already satisfied: python-dateutil>=2.8.2 in /Users/rajacgho/AIML-Code/bedrock-model-customization/bedrock-model-customization/venv/lib/python3.9/site-packages (from pandas==2.1.3) (2.9.0.post0)\n",
      "Requirement already satisfied: pytz>=2020.1 in /Users/rajacgho/AIML-Code/bedrock-model-customization/bedrock-model-customization/venv/lib/python3.9/site-packages (from pandas==2.1.3) (2024.1)\n",
      "Requirement already satisfied: tzdata>=2022.1 in /Users/rajacgho/AIML-Code/bedrock-model-customization/bedrock-model-customization/venv/lib/python3.9/site-packages (from pandas==2.1.3) (2024.1)\n",
      "Requirement already satisfied: six>=1.5 in /Users/rajacgho/AIML-Code/bedrock-model-customization/bedrock-model-customization/venv/lib/python3.9/site-packages (from python-dateutil>=2.8.2->pandas==2.1.3) (1.16.0)\n"
     ]
    }
   ],
   "source": [
    "!pip install --upgrade pip\n",
    "%pip install --no-build-isolation --force-reinstall \\\n",
    "    \"boto3>=1.28.57\" \\\n",
    "    \"awscli>=1.29.57\" \\\n",
    "    \"botocore>=1.31.57\"\n",
    "!pip install -qU ipywidgets>=7,<8\n",
    "!pip install jsonlines\n",
    "!pip install datasets==2.15.0\n",
    "!pip install pandas==2.1.3\n"
   ]
  },
  {
   "cell_type": "code",
   "execution_count": null,
   "id": "0c80e0aa-f0f4-483c-8477-77f522cee440",
   "metadata": {
    "tags": []
   },
   "outputs": [],
   "source": [
    "# restart kernel for packages to take effect\n",
    "from IPython.core.display import HTML\n",
    "HTML(\"<script>Jupyter.notebook.kernel.restart()</script>\")"
   ]
  },
  {
   "cell_type": "markdown",
   "id": "3af81567-a342-43ae-b15f-606d13442225",
   "metadata": {
    "tags": []
   },
   "source": [
    "### Setup\n",
    "import all the needed libraries and dependencies to setup this notebook."
   ]
  },
  {
   "cell_type": "code",
   "execution_count": null,
   "id": "dd869761-fa24-4baf-9049-aec6e032d57d",
   "metadata": {
    "tags": []
   },
   "outputs": [],
   "source": [
    "import warnings\n",
    "warnings.filterwarnings('ignore')\n",
    "import json\n",
    "import os\n",
    "import sys\n",
    "import boto3 \n",
    "import time\n",
    "import pprint\n",
    "from datasets import load_dataset\n",
    "import random\n",
    "import jsonlines"
   ]
  },
  {
   "cell_type": "markdown",
   "id": "9e5e0b87",
   "metadata": {},
   "source": [
    "### Environment initialization\n",
    "initiate boto3 clients for S3, IAM and Bedrock.\n",
    "These are required to create required S3 bucket for data store, required IAM roles and invoking Bedrock endpoints."
   ]
  },
  {
   "cell_type": "code",
   "execution_count": null,
   "id": "6320c431-ca74-4606-a276-f9ad3118dd92",
   "metadata": {
    "tags": []
   },
   "outputs": [],
   "source": [
    "session = boto3.session.Session()\n",
    "#Change the region according to your preference.\n",
    "region = 'us-west-2'\n",
    "sts_client = boto3.client('sts', region_name = region)\n",
    "account_id = sts_client.get_caller_identity()[\"Account\"]\n",
    "\n",
    "s3_suffix = f\"{region}-{account_id}\"\n",
    "bucket_name = f\"bedrock-customization-finetune-{s3_suffix}\"\n",
    "s3_client = boto3.client('s3', region_name = region)\n",
    "\n",
    "bedrock = boto3.client(service_name=\"bedrock\", region_name = region)\n",
    "bedrock_runtime = boto3.client(service_name=\"bedrock-runtime\", region_name = region )\n",
    "\n",
    "iam = boto3.client('iam', region_name=region)\n"
   ]
  },
  {
   "cell_type": "code",
   "execution_count": null,
   "id": "91fb4000-0efd-48ef-bda1-c409e0011e80",
   "metadata": {
    "tags": []
   },
   "outputs": [],
   "source": [
    "role_name = \"AmazonBedrockCustomizationRole_FineTuning\"\n",
    "s3_bedrock_finetuning_access_policy=\"AmazonBedrockCustomizationPolicy_FineTuning\"\n",
    "customization_role = f\"arn:aws:iam::{account_id}:role/{role_name}\""
   ]
  },
  {
   "cell_type": "code",
   "execution_count": null,
   "id": "5ae02ee1-1f59-498e-ab3c-2a34bb6e6da7",
   "metadata": {
    "tags": []
   },
   "outputs": [],
   "source": [
    "#List foundational models available for fine tuning\n",
    "for model in bedrock.list_foundation_models(\n",
    "    byCustomizationType=\"FINE_TUNING\")[\"modelSummaries\"]:\n",
    "    for key, value in model.items():\n",
    "        print(key, \":\", value)\n",
    "    print(\"-----\\n\")"
   ]
  },
  {
   "cell_type": "markdown",
   "id": "66ad09f2-71c0-48b9-b45c-e061d046aa59",
   "metadata": {},
   "source": [
    "### Create s3 bucket\n",
    "In this step we will create a s3 bucket, which will be used to store data for continued pre-training notebooks. "
   ]
  },
  {
   "cell_type": "code",
   "execution_count": null,
   "id": "4a977f93-699d-497e-9e32-1109a12de196",
   "metadata": {
    "tags": []
   },
   "outputs": [],
   "source": [
    "# Create S3 bucket for storing datasets for fine tuning\n",
    "s3bucket = s3_client.create_bucket(\n",
    "    Bucket=bucket_name,\n",
    "    CreateBucketConfiguration={\n",
    "        'LocationConstraint':region,\n",
    "    },\n",
    ")"
   ]
  },
  {
   "cell_type": "markdown",
   "id": "701a949e-e46b-44a8-9264-b4054948e76e",
   "metadata": {},
   "source": [
    "## Creating role and policies required to run customization jobs with Amazon Bedrock"
   ]
  },
  {
   "cell_type": "markdown",
   "id": "114928f6-c959-4bcd-80ac-dc6712b538b2",
   "metadata": {},
   "source": [
    "This JSON object defines the trust relationship that allows the bedrock service to assume a role that will give it the ability to talk to other required AWS services. The conditions set restrict the assumption of the role to a specfic account ID and a specific component of the bedrock service (model_customization_jobs)"
   ]
  },
  {
   "cell_type": "code",
   "execution_count": null,
   "id": "fc3a4cc0-5760-45a6-afcc-9dbfea34c0c4",
   "metadata": {
    "tags": []
   },
   "outputs": [],
   "source": [
    "ROLE_DOC = f\"\"\"{{\n",
    "    \"Version\": \"2012-10-17\",\n",
    "    \"Statement\": [\n",
    "        {{\n",
    "            \"Effect\": \"Allow\",\n",
    "            \"Principal\": {{\n",
    "                \"Service\": \"bedrock.amazonaws.com\"\n",
    "            }},\n",
    "            \"Action\": \"sts:AssumeRole\",\n",
    "            \"Condition\": {{\n",
    "                \"StringEquals\": {{\n",
    "                    \"aws:SourceAccount\": \"{account_id}\"\n",
    "                }},\n",
    "                \"ArnEquals\": {{\n",
    "                    \"aws:SourceArn\": \"arn:aws:bedrock:{region}:{account_id}:model-customization-job/*\"\n",
    "                }}\n",
    "            }}\n",
    "        }}\n",
    "    ]\n",
    "}}\n",
    "\"\"\""
   ]
  },
  {
   "cell_type": "markdown",
   "id": "506c40f4-011a-4df2-b40d-9d9e7338d251",
   "metadata": {},
   "source": [
    "This JSON object defines the permissions of the role we want bedrock to assume to allow access to the S3 bucket that we created that will hold our fine-tuning datasets and allow certain bucket and object manipulations."
   ]
  },
  {
   "cell_type": "code",
   "execution_count": null,
   "id": "bca5fd36-f08f-40e0-a679-241b2fe6a522",
   "metadata": {
    "tags": []
   },
   "outputs": [],
   "source": [
    "ACCESS_POLICY_DOC = f\"\"\"{{\n",
    "    \"Version\": \"2012-10-17\",\n",
    "    \"Statement\": [\n",
    "        {{\n",
    "            \"Effect\": \"Allow\",\n",
    "            \"Action\": [\n",
    "                \"s3:AbortMultipartUpload\",\n",
    "                \"s3:DeleteObject\",\n",
    "                \"s3:PutObject\",\n",
    "                \"s3:GetObject\",\n",
    "                \"s3:GetBucketAcl\",\n",
    "                \"s3:GetBucketNotification\",\n",
    "                \"s3:ListBucket\",\n",
    "                \"s3:PutBucketNotification\"\n",
    "            ],\n",
    "            \"Resource\": [\n",
    "                \"arn:aws:s3:::{bucket_name}\",\n",
    "                \"arn:aws:s3:::{bucket_name}/*\"\n",
    "            ]\n",
    "        }}\n",
    "    ]\n",
    "}}\"\"\"\n"
   ]
  },
  {
   "cell_type": "code",
   "execution_count": null,
   "id": "97da80e2-4a4c-4442-8f65-cee348453faa",
   "metadata": {
    "tags": []
   },
   "outputs": [],
   "source": [
    "response = iam.create_role(\n",
    "    RoleName=role_name,\n",
    "    AssumeRolePolicyDocument=ROLE_DOC,\n",
    "    Description=\"Role for Bedrock to access S3 for training\",\n",
    ")\n",
    "pprint.pp(response)"
   ]
  },
  {
   "cell_type": "code",
   "execution_count": null,
   "id": "4f421420-17a6-4a66-8530-a4109286cbbf",
   "metadata": {
    "tags": []
   },
   "outputs": [],
   "source": [
    "role_arn = response[\"Role\"][\"Arn\"]\n",
    "pprint.pp(role_arn)"
   ]
  },
  {
   "cell_type": "code",
   "execution_count": null,
   "id": "cef1b934-560b-450f-a23f-0981d026356a",
   "metadata": {
    "tags": []
   },
   "outputs": [],
   "source": [
    "response = iam.create_policy(\n",
    "    PolicyName=s3_bedrock_finetuning_access_policy,\n",
    "    PolicyDocument=ACCESS_POLICY_DOC,\n",
    ")\n",
    "pprint.pp(response)"
   ]
  },
  {
   "cell_type": "code",
   "execution_count": null,
   "id": "966182e5-ad5c-4f9c-8b49-16f8e528315c",
   "metadata": {
    "tags": []
   },
   "outputs": [],
   "source": [
    "policy_arn = response[\"Policy\"][\"Arn\"]\n",
    "pprint.pp(policy_arn)"
   ]
  },
  {
   "cell_type": "code",
   "execution_count": null,
   "id": "d39befb8-5bfd-4fa9-9405-3a23c64fc6d1",
   "metadata": {
    "tags": []
   },
   "outputs": [],
   "source": [
    "iam.attach_role_policy(\n",
    "    RoleName=role_name,\n",
    "    PolicyArn=policy_arn,\n",
    ")"
   ]
  },
  {
   "cell_type": "markdown",
   "id": "31a57c54-24c6-4231-83f4-cf3fe35f0d9b",
   "metadata": {},
   "source": [
    "### Preparing the data to be used for fine tuning.\n",
    "In this notebook we are using data in csv format. This is a complaints dataset from the consumer finance protection bureau.\n",
    "You can potentially use any csv dataset which could be used for pre-training the model."
   ]
  },
  {
   "cell_type": "code",
   "execution_count": 32,
   "id": "d95e39b7-c9d1-4ac8-8f90-2146b8f55e32",
   "metadata": {
    "tags": []
   },
   "outputs": [],
   "source": [
    "#load complaints dataset from cfpb ( consumer finance protection bureau)\n",
    "\n",
    "complaints = load_dataset(\"csv\", data_files=\"complaints-2024-04-08_12_34.csv\")"
   ]
  },
  {
   "cell_type": "markdown",
   "id": "a6e3f100",
   "metadata": {},
   "source": [
    "### Bedrock fine tuning limits for Titan Text Express\n",
    "[BaseModel = amazon.titan-text-express-v1:0:8k, Epochs <= 10, BatchSize <= 4, TotalRecords <= 10000, InputChars <= 12288, OutputChars <= 12288, TotalChars <= 12288]\n",
    "\n",
    "Based on the above limits the total records in the training set cannot exceed 10,000"
   ]
  },
  {
   "cell_type": "code",
   "execution_count": 33,
   "id": "bf95813e-3c30-4845-a64c-7f68a094d571",
   "metadata": {
    "tags": []
   },
   "outputs": [
    {
     "name": "stdout",
     "output_type": "stream",
     "text": [
      "Dataset({\n",
      "    features: ['Date received', 'Product', 'Sub-product', 'Issue', 'Sub-issue', 'Consumer complaint narrative', 'Company public response', 'Company', 'State', 'ZIP code', 'Tags', 'Consumer consent provided?', 'Submitted via', 'Date sent to company', 'Company response to consumer', 'Timely response?', 'Consumer disputed?', 'Complaint ID'],\n",
      "    num_rows: 50627\n",
      "})\n",
      "Dataset({\n",
      "    features: ['Date received', 'Product', 'Sub-product', 'Issue', 'Sub-issue', 'Consumer complaint narrative', 'Company public response', 'Company', 'State', 'ZIP code', 'Tags', 'Consumer consent provided?', 'Submitted via', 'Date sent to company', 'Company response to consumer', 'Timely response?', 'Consumer disputed?', 'Complaint ID'],\n",
      "    num_rows: 11391\n",
      "})\n",
      "Dataset({\n",
      "    features: ['Date received', 'Product', 'Sub-product', 'Issue', 'Sub-issue', 'Consumer complaint narrative', 'Company public response', 'Company', 'State', 'ZIP code', 'Tags', 'Consumer consent provided?', 'Submitted via', 'Date sent to company', 'Company response to consumer', 'Timely response?', 'Consumer disputed?', 'Complaint ID'],\n",
      "    num_rows: 1266\n",
      "})\n"
     ]
    }
   ],
   "source": [
    "#split the dataset between train, test and validation\n",
    "\n",
    "#The dataset is split into 2 subsets in 80/20 percentage. 80 percent for training and rest 20 for test and validation.\n",
    "train_test_split = complaints['train'].train_test_split(test_size=0.2)\n",
    "#From the remaining 20 percent, we split it into 90 percent for validation and 10 percent for test.\n",
    "train_val_split = train_test_split['test'].train_test_split(test_size=0.10)  \n",
    "\n",
    "dataset_train = train_test_split['train']\n",
    "dataset_valid = train_val_split['train']\n",
    "dataset_test = train_val_split['test']\n",
    "# View the structure of the dataset and the number of rows in each set.\n",
    "# The dataset is a dictionary with the keys 'train', 'validation', and 'test'. Each key contains a list of dictionaries, where each dictionary represents a single datapoint.\n",
    "\n",
    "print(dataset_train)\n",
    "print(dataset_valid)\n",
    "print(dataset_test)\n"
   ]
  },
  {
   "cell_type": "markdown",
   "id": "8702dfaa-0cdd-4cee-b659-d6f4068e52ac",
   "metadata": {},
   "source": [
    "Prepare the Datasets train, test and valid in the format required for fine tuning\n",
    "In this example, we are using a .jsonl dataset following example format:\n",
    "\n",
    "{\"prompt\": \"<prompt1>\", \"completion\": \"<expected generated text>\"}\n",
    "\n",
    "See more guidance on how to do fine tuning [https://docs.aws.amazon.com/bedrock/latest/userguide/model-customization-prepare.html]\n",
    "\n",
    "For guidance on customization quotas [https://docs.aws.amazon.com/bedrock/latest/userguide/quotas.html#quotas-model-customization]"
   ]
  },
  {
   "cell_type": "code",
   "execution_count": 34,
   "id": "0f7c5f55-81b8-494e-8b23-e2e684a58338",
   "metadata": {
    "tags": []
   },
   "outputs": [],
   "source": [
    "#prepare the test set\n",
    "dataset_test_format=[]\n",
    "for dp in dataset_test:\n",
    "    temp_dict={}\n",
    "    temp_dict['prompt']= 'consumer complaints and resolutions for fiancial products'\n",
    "    dp= str(dp)\n",
    "    temp_dict['completion']= dp\n",
    "    dataset_test_format.append(temp_dict)"
   ]
  },
  {
   "cell_type": "code",
   "execution_count": 35,
   "id": "768ff6d9-fcd5-47e4-b096-8277d0485df7",
   "metadata": {
    "tags": []
   },
   "outputs": [],
   "source": [
    "#prepare the validation set\n",
    "#Sum of training and validation records allowed for fine-tuning is 10,000.\n",
    "#So we are considering 1000 records for validation set.\n",
    "dataset_valid_format=[]\n",
    "for dp in dataset_valid:\n",
    "    temp_dict={}\n",
    "    temp_dict['prompt']= 'consumer complaints and resolutions for fiancial products'\n",
    "    #convert the dictionary dp to a string\n",
    "    dp= str(dp)\n",
    "    temp_dict['completion']= dp\n",
    "    dataset_valid_format.append(temp_dict)\n",
    "    if len(dataset_valid_format) == 1000:\n",
    "        break\n"
   ]
  },
  {
   "cell_type": "code",
   "execution_count": 36,
   "id": "4996814e-8838-4b82-92f8-d677b8a73bf0",
   "metadata": {
    "tags": []
   },
   "outputs": [],
   "source": [
    "#prepare the train set\n",
    "#Sum of training and validation records allowed for fine-tuning is 10,000.\n",
    "#So we are considering 9000 records for training set.\n",
    "dataset_train_format=[]\n",
    "for dp in dataset_train:\n",
    "    temp_dict={}\n",
    "    temp_dict['prompt']= 'consumer complaints and resolutions for fiancial products'\n",
    "    dp= str(dp)\n",
    "    temp_dict['completion']= dp\n",
    "    dataset_train_format.append(temp_dict)\n",
    "    if len(dataset_train_format) == 9000:\n",
    "        break\n"
   ]
  },
  {
   "cell_type": "markdown",
   "id": "9cc52050",
   "metadata": {},
   "source": [
    "### Preparing the datasets\n",
    "LLM's have different token limits. Here we restricted to 4096 characters."
   ]
  },
  {
   "cell_type": "code",
   "execution_count": 37,
   "id": "1474f15e-1f54-4068-8fc5-9399de20c59b",
   "metadata": {
    "tags": []
   },
   "outputs": [],
   "source": [
    "def jsonl_converter(dataset,file_name):\n",
    "     with jsonlines.open(file_name, 'w') as writer:\n",
    "        for line in dataset:\n",
    "            # Convert the line to a JSON string to check its length\n",
    "            json_string = json.dumps(line)\n",
    "            if len(json_string) < 4096:\n",
    "                # If so, write the line to the file\n",
    "                writer.write(line)"
   ]
  },
  {
   "cell_type": "markdown",
   "id": "3d917916-18e6-405a-a268-2484daf709d4",
   "metadata": {},
   "source": [
    "### Create local directory for datasets\n",
    "Please not that your training dataset for fine-tuning cannot be greater than 10K records, and validation dataset has a maximum limit of 1K records."
   ]
  },
  {
   "cell_type": "code",
   "execution_count": 38,
   "id": "efbd16af-052a-4b6c-b2bc-b1f29f15aa7b",
   "metadata": {
    "tags": []
   },
   "outputs": [
    {
     "name": "stdout",
     "output_type": "stream",
     "text": [
      "mkdir: fine-tuning-datasets: File exists\n"
     ]
    }
   ],
   "source": [
    "dataset_folder=\"fine-tuning-datasets\"\n",
    "train_file_name=\"train-cfpb-complaints.jsonl\"\n",
    "validation_file_name=\"validation-cfpb-complaints.jsonl\"\n",
    "test_file_name=\"test-cfpb-complaints.jsonl\"\n",
    "!mkdir fine-tuning-datasets\n",
    "abs_path=os.path.abspath(dataset_folder)"
   ]
  },
  {
   "cell_type": "markdown",
   "id": "e7fe005c-985c-48b8-91c5-ae185ebb7bc7",
   "metadata": {},
   "source": [
    "### Create JSONL format datasets for Bedrock fine tuning"
   ]
  },
  {
   "cell_type": "code",
   "execution_count": null,
   "id": "8eb98bd4-dbbb-4d8d-b1ae-9d145ec17b2d",
   "metadata": {
    "tags": []
   },
   "outputs": [],
   "source": [
    "#Convert the datasets to jsonl files and save in local directory for each dataset\n",
    "jsonl_converter(dataset_test_format,f'{abs_path}/{test_file_name}')\n",
    "jsonl_converter(dataset_train_format,f'{abs_path}/{train_file_name}')\n",
    "jsonl_converter(dataset_valid_format,f'{abs_path}/{validation_file_name}')"
   ]
  },
  {
   "cell_type": "markdown",
   "id": "1d2f5a94-dff3-46be-8244-f7ede1d86eeb",
   "metadata": {},
   "source": [
    "### Upload datasets to s3 bucket"
   ]
  },
  {
   "cell_type": "code",
   "execution_count": null,
   "id": "d3cd7a7c-c70b-4c82-834e-a4e3d5a1e8e3",
   "metadata": {
    "tags": []
   },
   "outputs": [],
   "source": [
    "s3_client.upload_file(f'{abs_path}/{train_file_name}', bucket_name, f'fine-tuning-datasets/train/{train_file_name}')\n",
    "s3_client.upload_file(f'{abs_path}/{validation_file_name}', bucket_name, f'fine-tuning-datasets/validation/{validation_file_name}')\n",
    "s3_client.upload_file(f'{abs_path}/{test_file_name}', bucket_name, f'fine-tuning-datasets/test/{test_file_name}')"
   ]
  },
  {
   "cell_type": "markdown",
   "id": "d401e936",
   "metadata": {},
   "source": [
    "## For fine-tuning , execute the notebook fine-tune_titan_express_bedrock.ipynb"
   ]
  }
 ],
 "metadata": {
  "availableInstances": [
   {
    "_defaultOrder": 0,
    "_isFastLaunch": true,
    "category": "General purpose",
    "gpuNum": 0,
    "hideHardwareSpecs": false,
    "memoryGiB": 4,
    "name": "ml.t3.medium",
    "vcpuNum": 2
   },
   {
    "_defaultOrder": 1,
    "_isFastLaunch": false,
    "category": "General purpose",
    "gpuNum": 0,
    "hideHardwareSpecs": false,
    "memoryGiB": 8,
    "name": "ml.t3.large",
    "vcpuNum": 2
   },
   {
    "_defaultOrder": 2,
    "_isFastLaunch": false,
    "category": "General purpose",
    "gpuNum": 0,
    "hideHardwareSpecs": false,
    "memoryGiB": 16,
    "name": "ml.t3.xlarge",
    "vcpuNum": 4
   },
   {
    "_defaultOrder": 3,
    "_isFastLaunch": false,
    "category": "General purpose",
    "gpuNum": 0,
    "hideHardwareSpecs": false,
    "memoryGiB": 32,
    "name": "ml.t3.2xlarge",
    "vcpuNum": 8
   },
   {
    "_defaultOrder": 4,
    "_isFastLaunch": true,
    "category": "General purpose",
    "gpuNum": 0,
    "hideHardwareSpecs": false,
    "memoryGiB": 8,
    "name": "ml.m5.large",
    "vcpuNum": 2
   },
   {
    "_defaultOrder": 5,
    "_isFastLaunch": false,
    "category": "General purpose",
    "gpuNum": 0,
    "hideHardwareSpecs": false,
    "memoryGiB": 16,
    "name": "ml.m5.xlarge",
    "vcpuNum": 4
   },
   {
    "_defaultOrder": 6,
    "_isFastLaunch": false,
    "category": "General purpose",
    "gpuNum": 0,
    "hideHardwareSpecs": false,
    "memoryGiB": 32,
    "name": "ml.m5.2xlarge",
    "vcpuNum": 8
   },
   {
    "_defaultOrder": 7,
    "_isFastLaunch": false,
    "category": "General purpose",
    "gpuNum": 0,
    "hideHardwareSpecs": false,
    "memoryGiB": 64,
    "name": "ml.m5.4xlarge",
    "vcpuNum": 16
   },
   {
    "_defaultOrder": 8,
    "_isFastLaunch": false,
    "category": "General purpose",
    "gpuNum": 0,
    "hideHardwareSpecs": false,
    "memoryGiB": 128,
    "name": "ml.m5.8xlarge",
    "vcpuNum": 32
   },
   {
    "_defaultOrder": 9,
    "_isFastLaunch": false,
    "category": "General purpose",
    "gpuNum": 0,
    "hideHardwareSpecs": false,
    "memoryGiB": 192,
    "name": "ml.m5.12xlarge",
    "vcpuNum": 48
   },
   {
    "_defaultOrder": 10,
    "_isFastLaunch": false,
    "category": "General purpose",
    "gpuNum": 0,
    "hideHardwareSpecs": false,
    "memoryGiB": 256,
    "name": "ml.m5.16xlarge",
    "vcpuNum": 64
   },
   {
    "_defaultOrder": 11,
    "_isFastLaunch": false,
    "category": "General purpose",
    "gpuNum": 0,
    "hideHardwareSpecs": false,
    "memoryGiB": 384,
    "name": "ml.m5.24xlarge",
    "vcpuNum": 96
   },
   {
    "_defaultOrder": 12,
    "_isFastLaunch": false,
    "category": "General purpose",
    "gpuNum": 0,
    "hideHardwareSpecs": false,
    "memoryGiB": 8,
    "name": "ml.m5d.large",
    "vcpuNum": 2
   },
   {
    "_defaultOrder": 13,
    "_isFastLaunch": false,
    "category": "General purpose",
    "gpuNum": 0,
    "hideHardwareSpecs": false,
    "memoryGiB": 16,
    "name": "ml.m5d.xlarge",
    "vcpuNum": 4
   },
   {
    "_defaultOrder": 14,
    "_isFastLaunch": false,
    "category": "General purpose",
    "gpuNum": 0,
    "hideHardwareSpecs": false,
    "memoryGiB": 32,
    "name": "ml.m5d.2xlarge",
    "vcpuNum": 8
   },
   {
    "_defaultOrder": 15,
    "_isFastLaunch": false,
    "category": "General purpose",
    "gpuNum": 0,
    "hideHardwareSpecs": false,
    "memoryGiB": 64,
    "name": "ml.m5d.4xlarge",
    "vcpuNum": 16
   },
   {
    "_defaultOrder": 16,
    "_isFastLaunch": false,
    "category": "General purpose",
    "gpuNum": 0,
    "hideHardwareSpecs": false,
    "memoryGiB": 128,
    "name": "ml.m5d.8xlarge",
    "vcpuNum": 32
   },
   {
    "_defaultOrder": 17,
    "_isFastLaunch": false,
    "category": "General purpose",
    "gpuNum": 0,
    "hideHardwareSpecs": false,
    "memoryGiB": 192,
    "name": "ml.m5d.12xlarge",
    "vcpuNum": 48
   },
   {
    "_defaultOrder": 18,
    "_isFastLaunch": false,
    "category": "General purpose",
    "gpuNum": 0,
    "hideHardwareSpecs": false,
    "memoryGiB": 256,
    "name": "ml.m5d.16xlarge",
    "vcpuNum": 64
   },
   {
    "_defaultOrder": 19,
    "_isFastLaunch": false,
    "category": "General purpose",
    "gpuNum": 0,
    "hideHardwareSpecs": false,
    "memoryGiB": 384,
    "name": "ml.m5d.24xlarge",
    "vcpuNum": 96
   },
   {
    "_defaultOrder": 20,
    "_isFastLaunch": false,
    "category": "General purpose",
    "gpuNum": 0,
    "hideHardwareSpecs": true,
    "memoryGiB": 0,
    "name": "ml.geospatial.interactive",
    "supportedImageNames": [
     "sagemaker-geospatial-v1-0"
    ],
    "vcpuNum": 0
   },
   {
    "_defaultOrder": 21,
    "_isFastLaunch": true,
    "category": "Compute optimized",
    "gpuNum": 0,
    "hideHardwareSpecs": false,
    "memoryGiB": 4,
    "name": "ml.c5.large",
    "vcpuNum": 2
   },
   {
    "_defaultOrder": 22,
    "_isFastLaunch": false,
    "category": "Compute optimized",
    "gpuNum": 0,
    "hideHardwareSpecs": false,
    "memoryGiB": 8,
    "name": "ml.c5.xlarge",
    "vcpuNum": 4
   },
   {
    "_defaultOrder": 23,
    "_isFastLaunch": false,
    "category": "Compute optimized",
    "gpuNum": 0,
    "hideHardwareSpecs": false,
    "memoryGiB": 16,
    "name": "ml.c5.2xlarge",
    "vcpuNum": 8
   },
   {
    "_defaultOrder": 24,
    "_isFastLaunch": false,
    "category": "Compute optimized",
    "gpuNum": 0,
    "hideHardwareSpecs": false,
    "memoryGiB": 32,
    "name": "ml.c5.4xlarge",
    "vcpuNum": 16
   },
   {
    "_defaultOrder": 25,
    "_isFastLaunch": false,
    "category": "Compute optimized",
    "gpuNum": 0,
    "hideHardwareSpecs": false,
    "memoryGiB": 72,
    "name": "ml.c5.9xlarge",
    "vcpuNum": 36
   },
   {
    "_defaultOrder": 26,
    "_isFastLaunch": false,
    "category": "Compute optimized",
    "gpuNum": 0,
    "hideHardwareSpecs": false,
    "memoryGiB": 96,
    "name": "ml.c5.12xlarge",
    "vcpuNum": 48
   },
   {
    "_defaultOrder": 27,
    "_isFastLaunch": false,
    "category": "Compute optimized",
    "gpuNum": 0,
    "hideHardwareSpecs": false,
    "memoryGiB": 144,
    "name": "ml.c5.18xlarge",
    "vcpuNum": 72
   },
   {
    "_defaultOrder": 28,
    "_isFastLaunch": false,
    "category": "Compute optimized",
    "gpuNum": 0,
    "hideHardwareSpecs": false,
    "memoryGiB": 192,
    "name": "ml.c5.24xlarge",
    "vcpuNum": 96
   },
   {
    "_defaultOrder": 29,
    "_isFastLaunch": true,
    "category": "Accelerated computing",
    "gpuNum": 1,
    "hideHardwareSpecs": false,
    "memoryGiB": 16,
    "name": "ml.g4dn.xlarge",
    "vcpuNum": 4
   },
   {
    "_defaultOrder": 30,
    "_isFastLaunch": false,
    "category": "Accelerated computing",
    "gpuNum": 1,
    "hideHardwareSpecs": false,
    "memoryGiB": 32,
    "name": "ml.g4dn.2xlarge",
    "vcpuNum": 8
   },
   {
    "_defaultOrder": 31,
    "_isFastLaunch": false,
    "category": "Accelerated computing",
    "gpuNum": 1,
    "hideHardwareSpecs": false,
    "memoryGiB": 64,
    "name": "ml.g4dn.4xlarge",
    "vcpuNum": 16
   },
   {
    "_defaultOrder": 32,
    "_isFastLaunch": false,
    "category": "Accelerated computing",
    "gpuNum": 1,
    "hideHardwareSpecs": false,
    "memoryGiB": 128,
    "name": "ml.g4dn.8xlarge",
    "vcpuNum": 32
   },
   {
    "_defaultOrder": 33,
    "_isFastLaunch": false,
    "category": "Accelerated computing",
    "gpuNum": 4,
    "hideHardwareSpecs": false,
    "memoryGiB": 192,
    "name": "ml.g4dn.12xlarge",
    "vcpuNum": 48
   },
   {
    "_defaultOrder": 34,
    "_isFastLaunch": false,
    "category": "Accelerated computing",
    "gpuNum": 1,
    "hideHardwareSpecs": false,
    "memoryGiB": 256,
    "name": "ml.g4dn.16xlarge",
    "vcpuNum": 64
   },
   {
    "_defaultOrder": 35,
    "_isFastLaunch": false,
    "category": "Accelerated computing",
    "gpuNum": 1,
    "hideHardwareSpecs": false,
    "memoryGiB": 61,
    "name": "ml.p3.2xlarge",
    "vcpuNum": 8
   },
   {
    "_defaultOrder": 36,
    "_isFastLaunch": false,
    "category": "Accelerated computing",
    "gpuNum": 4,
    "hideHardwareSpecs": false,
    "memoryGiB": 244,
    "name": "ml.p3.8xlarge",
    "vcpuNum": 32
   },
   {
    "_defaultOrder": 37,
    "_isFastLaunch": false,
    "category": "Accelerated computing",
    "gpuNum": 8,
    "hideHardwareSpecs": false,
    "memoryGiB": 488,
    "name": "ml.p3.16xlarge",
    "vcpuNum": 64
   },
   {
    "_defaultOrder": 38,
    "_isFastLaunch": false,
    "category": "Accelerated computing",
    "gpuNum": 8,
    "hideHardwareSpecs": false,
    "memoryGiB": 768,
    "name": "ml.p3dn.24xlarge",
    "vcpuNum": 96
   },
   {
    "_defaultOrder": 39,
    "_isFastLaunch": false,
    "category": "Memory Optimized",
    "gpuNum": 0,
    "hideHardwareSpecs": false,
    "memoryGiB": 16,
    "name": "ml.r5.large",
    "vcpuNum": 2
   },
   {
    "_defaultOrder": 40,
    "_isFastLaunch": false,
    "category": "Memory Optimized",
    "gpuNum": 0,
    "hideHardwareSpecs": false,
    "memoryGiB": 32,
    "name": "ml.r5.xlarge",
    "vcpuNum": 4
   },
   {
    "_defaultOrder": 41,
    "_isFastLaunch": false,
    "category": "Memory Optimized",
    "gpuNum": 0,
    "hideHardwareSpecs": false,
    "memoryGiB": 64,
    "name": "ml.r5.2xlarge",
    "vcpuNum": 8
   },
   {
    "_defaultOrder": 42,
    "_isFastLaunch": false,
    "category": "Memory Optimized",
    "gpuNum": 0,
    "hideHardwareSpecs": false,
    "memoryGiB": 128,
    "name": "ml.r5.4xlarge",
    "vcpuNum": 16
   },
   {
    "_defaultOrder": 43,
    "_isFastLaunch": false,
    "category": "Memory Optimized",
    "gpuNum": 0,
    "hideHardwareSpecs": false,
    "memoryGiB": 256,
    "name": "ml.r5.8xlarge",
    "vcpuNum": 32
   },
   {
    "_defaultOrder": 44,
    "_isFastLaunch": false,
    "category": "Memory Optimized",
    "gpuNum": 0,
    "hideHardwareSpecs": false,
    "memoryGiB": 384,
    "name": "ml.r5.12xlarge",
    "vcpuNum": 48
   },
   {
    "_defaultOrder": 45,
    "_isFastLaunch": false,
    "category": "Memory Optimized",
    "gpuNum": 0,
    "hideHardwareSpecs": false,
    "memoryGiB": 512,
    "name": "ml.r5.16xlarge",
    "vcpuNum": 64
   },
   {
    "_defaultOrder": 46,
    "_isFastLaunch": false,
    "category": "Memory Optimized",
    "gpuNum": 0,
    "hideHardwareSpecs": false,
    "memoryGiB": 768,
    "name": "ml.r5.24xlarge",
    "vcpuNum": 96
   },
   {
    "_defaultOrder": 47,
    "_isFastLaunch": false,
    "category": "Accelerated computing",
    "gpuNum": 1,
    "hideHardwareSpecs": false,
    "memoryGiB": 16,
    "name": "ml.g5.xlarge",
    "vcpuNum": 4
   },
   {
    "_defaultOrder": 48,
    "_isFastLaunch": false,
    "category": "Accelerated computing",
    "gpuNum": 1,
    "hideHardwareSpecs": false,
    "memoryGiB": 32,
    "name": "ml.g5.2xlarge",
    "vcpuNum": 8
   },
   {
    "_defaultOrder": 49,
    "_isFastLaunch": false,
    "category": "Accelerated computing",
    "gpuNum": 1,
    "hideHardwareSpecs": false,
    "memoryGiB": 64,
    "name": "ml.g5.4xlarge",
    "vcpuNum": 16
   },
   {
    "_defaultOrder": 50,
    "_isFastLaunch": false,
    "category": "Accelerated computing",
    "gpuNum": 1,
    "hideHardwareSpecs": false,
    "memoryGiB": 128,
    "name": "ml.g5.8xlarge",
    "vcpuNum": 32
   },
   {
    "_defaultOrder": 51,
    "_isFastLaunch": false,
    "category": "Accelerated computing",
    "gpuNum": 1,
    "hideHardwareSpecs": false,
    "memoryGiB": 256,
    "name": "ml.g5.16xlarge",
    "vcpuNum": 64
   },
   {
    "_defaultOrder": 52,
    "_isFastLaunch": false,
    "category": "Accelerated computing",
    "gpuNum": 4,
    "hideHardwareSpecs": false,
    "memoryGiB": 192,
    "name": "ml.g5.12xlarge",
    "vcpuNum": 48
   },
   {
    "_defaultOrder": 53,
    "_isFastLaunch": false,
    "category": "Accelerated computing",
    "gpuNum": 4,
    "hideHardwareSpecs": false,
    "memoryGiB": 384,
    "name": "ml.g5.24xlarge",
    "vcpuNum": 96
   },
   {
    "_defaultOrder": 54,
    "_isFastLaunch": false,
    "category": "Accelerated computing",
    "gpuNum": 8,
    "hideHardwareSpecs": false,
    "memoryGiB": 768,
    "name": "ml.g5.48xlarge",
    "vcpuNum": 192
   },
   {
    "_defaultOrder": 55,
    "_isFastLaunch": false,
    "category": "Accelerated computing",
    "gpuNum": 8,
    "hideHardwareSpecs": false,
    "memoryGiB": 1152,
    "name": "ml.p4d.24xlarge",
    "vcpuNum": 96
   },
   {
    "_defaultOrder": 56,
    "_isFastLaunch": false,
    "category": "Accelerated computing",
    "gpuNum": 8,
    "hideHardwareSpecs": false,
    "memoryGiB": 1152,
    "name": "ml.p4de.24xlarge",
    "vcpuNum": 96
   },
   {
    "_defaultOrder": 57,
    "_isFastLaunch": false,
    "category": "Accelerated computing",
    "gpuNum": 0,
    "hideHardwareSpecs": false,
    "memoryGiB": 32,
    "name": "ml.trn1.2xlarge",
    "vcpuNum": 8
   },
   {
    "_defaultOrder": 58,
    "_isFastLaunch": false,
    "category": "Accelerated computing",
    "gpuNum": 0,
    "hideHardwareSpecs": false,
    "memoryGiB": 512,
    "name": "ml.trn1.32xlarge",
    "vcpuNum": 128
   },
   {
    "_defaultOrder": 59,
    "_isFastLaunch": false,
    "category": "Accelerated computing",
    "gpuNum": 0,
    "hideHardwareSpecs": false,
    "memoryGiB": 512,
    "name": "ml.trn1n.32xlarge",
    "vcpuNum": 128
   }
  ],
  "instance_type": "ml.c5.4xlarge",
  "kernelspec": {
   "display_name": "Python 3",
   "language": "python",
   "name": "python3"
  },
  "language_info": {
   "codemirror_mode": {
    "name": "ipython",
    "version": 3
   },
   "file_extension": ".py",
   "mimetype": "text/x-python",
   "name": "python",
   "nbconvert_exporter": "python",
   "pygments_lexer": "ipython3",
   "version": "3.9.6"
  }
 },
 "nbformat": 4,
 "nbformat_minor": 5
}
